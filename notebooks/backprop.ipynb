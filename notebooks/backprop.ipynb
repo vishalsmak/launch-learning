{
 "cells": [
  {
   "cell_type": "code",
   "execution_count": null,
   "metadata": {},
   "outputs": [],
   "source": [
    "import torch\n",
    "import numpy as np"
   ]
  },
  {
   "cell_type": "code",
   "execution_count": null,
   "metadata": {},
   "outputs": [],
   "source": [
    "# x = torch.tensor(1.0)\n",
    "# y = torch.tensor(2.0)\n",
    "# w = torch.tensor(1.0, requires_grad=True)\n",
    "\n",
    "# y_hat = x * w\n",
    "# loss = (y_hat - y)**2\n",
    "\n",
    "# print(loss)\n",
    "# print(f\"Loss = {loss}\")\n",
    "\n",
    "# # backprop\n",
    "# print(loss.backward())\n",
    "# print(f\"Updated gradient = {w.grad}\")\n",
    " \n",
    "\n"
   ]
  },
  {
   "cell_type": "code",
   "execution_count": null,
   "metadata": {},
   "outputs": [],
   "source": [
    "# functions for prediction scratch\n",
    "\n",
    "# lets say learn function = 2x\n",
    "# doing everything from scratch\n",
    "\n",
    "X = np.array([1, 2, 3, 4], dtype=np.float32)\n",
    "Y = np.array([2, 4, 6, 8], dtype=np.float32)\n",
    "\n",
    "w = 0.0\n",
    "\n",
    "def forward(x):\n",
    "    return x * w\n",
    "\n",
    "def loss(y, y_predicted):\n",
    "    return ((y - y_predicted)**2).mean()\n",
    "\n",
    "def back(x, y, y_predicted):\n",
    "    return np.dot(2 * x , (y_predicted - y)).mean()\n",
    "    \n",
    "iteration = 100\n",
    "learning_rate = 0.01\n",
    "\n",
    "print(f\"Prediction before training {forward(5):.3f}\")\n",
    "\n",
    "for epoch in range(iteration):\n",
    "    y_predict = forward(X)\n",
    "    \n",
    "    lo = loss(Y, y_predict)\n",
    "    \n",
    "    grad = back(X, Y, y_predict) # grad = dw\n",
    "    \n",
    "    w -= learning_rate * grad\n",
    "    \n",
    "    if epoch % 2 == 0:\n",
    "        print(f\"epoch {epoch + 1}: w = {w:.3f}, loss = {lo:.8f}\")\n",
    "    \n",
    "print(f\"Prediction After training {forward(5):.3f}\")"
   ]
  },
  {
   "cell_type": "code",
   "execution_count": null,
   "metadata": {},
   "outputs": [],
   "source": []
  }
 ],
 "metadata": {
  "kernelspec": {
   "display_name": ".venv",
   "language": "python",
   "name": "python3"
  },
  "language_info": {
   "codemirror_mode": {
    "name": "ipython",
    "version": 3
   },
   "file_extension": ".py",
   "mimetype": "text/x-python",
   "name": "python",
   "nbconvert_exporter": "python",
   "pygments_lexer": "ipython3",
   "version": "3.11.5"
  }
 },
 "nbformat": 4,
 "nbformat_minor": 2
}
