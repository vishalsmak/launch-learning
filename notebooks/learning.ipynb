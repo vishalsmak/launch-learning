{
 "cells": [
  {
   "cell_type": "code",
   "execution_count": null,
   "metadata": {},
   "outputs": [],
   "source": [
    "import numpy as np\n",
    "import torch"
   ]
  },
  {
   "cell_type": "code",
   "execution_count": null,
   "metadata": {},
   "outputs": [],
   "source": [
    "# practice numpy\n",
    "\n",
    "a = np.array([1,2,5])\n",
    "print(a)\n",
    "\n",
    "b = np.array([(3, 5, 7),(4, 6, 0)], dtype=float)\n",
    "print(b)\n",
    "print(f\"shape: {b.shape}\")\n",
    "\n",
    "print(\"----------------\")\n",
    "\n",
    "# c = np.array([(3,5,7)])\n",
    "# print(c)\n",
    "\n",
    "print(\"----------------\")\n",
    "\n",
    "\n",
    "d = np.array([[(1.5, 2, 3), (4, 5, 6)], [(3, 2, 1), (4, 5, 6)]], dtype = float)\n",
    "print(d)\n",
    "print(f\"shape: {d.shape}\")\n",
    "\n",
    "print(\"----------------\")\n",
    "\n",
    "print(np.zeros((2,3)))\n",
    "\n"
   ]
  },
  {
   "cell_type": "code",
   "execution_count": null,
   "metadata": {},
   "outputs": [],
   "source": [
    "#practice tensor\n",
    "\n",
    "x = torch.empty(3)\n",
    "y = np.empty(3)\n",
    "print(x)\n",
    "print(y)"
   ]
  },
  {
   "cell_type": "code",
   "execution_count": null,
   "metadata": {},
   "outputs": [],
   "source": [
    "x = torch.rand(3, requires_grad=True)\n",
    "print(x)\n",
    "\n",
    "x = x * x * 2\n",
    "print(x)\n",
    "\n",
    "\n",
    "temp = torch.tensor([1, 2, 4], dtype=torch.float32) # need to define this for dimension for backwawrd()\n",
    "print(temp)\n",
    "x.retain_grad()\n",
    "x.backward(temp)  # backward propogation\n",
    "print(x.grad)\n"
   ]
  },
  {
   "cell_type": "code",
   "execution_count": null,
   "metadata": {},
   "outputs": [],
   "source": [
    "# Basic training example\n",
    "\n",
    "weights = torch.ones(4, requires_grad=True)\n",
    "print(f\"starting weights {weights}\")\n",
    "for epoch in range(3):\n",
    "    model_output = (weights*3).sum() # dummy model ouput\n",
    "    model_output.retain_grad() # need to do this\n",
    "    model_output.backward() # backward propogation\n",
    "    print(weights.grad)\n",
    "    print(weights)\n"
   ]
  },
  {
   "cell_type": "code",
   "execution_count": null,
   "metadata": {},
   "outputs": [],
   "source": []
  },
  {
   "cell_type": "code",
   "execution_count": null,
   "metadata": {},
   "outputs": [],
   "source": []
  }
 ],
 "metadata": {
  "kernelspec": {
   "display_name": ".venv",
   "language": "python",
   "name": "python3"
  },
  "language_info": {
   "codemirror_mode": {
    "name": "ipython",
    "version": 3
   },
   "file_extension": ".py",
   "mimetype": "text/x-python",
   "name": "python",
   "nbconvert_exporter": "python",
   "pygments_lexer": "ipython3",
   "version": "3.11.5"
  }
 },
 "nbformat": 4,
 "nbformat_minor": 2
}
